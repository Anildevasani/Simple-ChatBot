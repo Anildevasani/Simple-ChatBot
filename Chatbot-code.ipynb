{
 "cells": [
  {
   "cell_type": "code",
   "execution_count": 2,
   "id": "3d31b2bf",
   "metadata": {},
   "outputs": [],
   "source": [
    "import numpy as np\n",
    "import warnings\n",
    "warnings.filterwarnings('ignore')\n",
    "import nltk\n",
    "import string\n",
    "import random"
   ]
  },
  {
   "cell_type": "code",
   "execution_count": 3,
   "id": "104ef593",
   "metadata": {},
   "outputs": [
    {
     "name": "stderr",
     "output_type": "stream",
     "text": [
      "[nltk_data] Downloading package punkt to\n",
      "[nltk_data]     C:\\Users\\91630\\AppData\\Roaming\\nltk_data...\n",
      "[nltk_data]   Package punkt is already up-to-date!\n",
      "[nltk_data] Downloading package wordnet to\n",
      "[nltk_data]     C:\\Users\\91630\\AppData\\Roaming\\nltk_data...\n",
      "[nltk_data]   Package wordnet is already up-to-date!\n"
     ]
    }
   ],
   "source": [
    "f=open('chatbot.txt','r',errors='ignore')\n",
    "raw_doc=f.read()\n",
    "raw_doc=raw_doc.lower() #converts text to lowercase\n",
    "nltk.download('punkt') #using the punkt tokenizer\n",
    "nltk.download('wordnet') #using the wordnet dictionary\n",
    "sent_tokens=nltk.sent_tokenize(raw_doc) #converts doc to list of sentences\n",
    "word_tokens=nltk.word_tokenize(raw_doc) #converts doc to list of words"
   ]
  },
  {
   "cell_type": "markdown",
   "id": "bd7cf03d",
   "metadata": {},
   "source": [
    "# Example of sentences tokens"
   ]
  },
  {
   "cell_type": "code",
   "execution_count": 4,
   "id": "3fecd848",
   "metadata": {},
   "outputs": [
    {
     "data": {
      "text/plain": [
       "['\\nai\" redirects here.',\n",
       " 'for other uses, see ai (disambiguation), artificial intelligence (disambiguation), and intelligent agent.']"
      ]
     },
     "execution_count": 4,
     "metadata": {},
     "output_type": "execute_result"
    }
   ],
   "source": [
    "sent_tokens[:2]"
   ]
  },
  {
   "cell_type": "markdown",
   "id": "e3215a9e",
   "metadata": {},
   "source": [
    "# Example of word tokens"
   ]
  },
  {
   "cell_type": "code",
   "execution_count": 5,
   "id": "12d1c797",
   "metadata": {},
   "outputs": [
    {
     "data": {
      "text/plain": [
       "['ai', \"''\"]"
      ]
     },
     "execution_count": 5,
     "metadata": {},
     "output_type": "execute_result"
    }
   ],
   "source": [
    "word_tokens[:2]"
   ]
  },
  {
   "cell_type": "markdown",
   "id": "8e9d85fe",
   "metadata": {},
   "source": [
    "# Text processing"
   ]
  },
  {
   "cell_type": "code",
   "execution_count": 6,
   "id": "1bb548f6",
   "metadata": {},
   "outputs": [],
   "source": [
    "lemmer=nltk.stem.WordNetLemmatizer()\n",
    "#WordNet is a semantically-oriented dictionary of english included in nltk.\n",
    "def LemTokens(tokens):\n",
    "    return[lemmer.lemmatize(token) for token in tokens]\n",
    "remove_punct_dict=dict((ord(punct),None) for punct in string.punctuation)\n",
    "def LemNormalize(text):\n",
    "    return LemTokens(nltk.word_tokenize(text.lower().translate(remove_punct_dict)))"
   ]
  },
  {
   "cell_type": "markdown",
   "id": "b1b2584c",
   "metadata": {},
   "source": [
    "# greeting function"
   ]
  },
  {
   "cell_type": "code",
   "execution_count": 7,
   "id": "92e2960d",
   "metadata": {},
   "outputs": [],
   "source": [
    "GREET_INPUTS=(\"hello\",\"hi\",\"hey\",\"dear\",\"what's up\")\n",
    "GREET_RESPONSES=(\"hi\",\"hey\",\"welcome\",\"what are you doing now\",\"hello\")\n",
    "def greet(sentence):\n",
    "    for word in sentence.split():\n",
    "        if word.lower() in GREET_INPUTS:\n",
    "            return random.choice(GREET_RESPONSES)"
   ]
  },
  {
   "cell_type": "markdown",
   "id": "5b52be2d",
   "metadata": {},
   "source": [
    "# Response generation"
   ]
  },
  {
   "cell_type": "code",
   "execution_count": 8,
   "id": "8d0ca515",
   "metadata": {},
   "outputs": [],
   "source": [
    "from sklearn.feature_extraction.text import TfidfVectorizer\n",
    "from sklearn.metrics.pairwise import cosine_similarity"
   ]
  },
  {
   "cell_type": "code",
   "execution_count": 9,
   "id": "206bf56b",
   "metadata": {},
   "outputs": [],
   "source": [
    "def response(user_response):\n",
    "    robo1_response=''\n",
    "    TfidfVec=TfidfVectorizer(tokenizer=LemNormalize,stop_words=\"english\")\n",
    "    tfidf=TfidfVec.fit_transform(sent_tokens)\n",
    "    vals=cosine_similarity(tfidf[-1],tfidf)\n",
    "    idx=vals.argsort()[0][-2]\n",
    "    flat=vals.flatten()\n",
    "    flat.sort()\n",
    "    req_tfidf=flat[-2]\n",
    "    if(req_tfidf==0):\n",
    "        robo1_response=robo1_response+\"I am sorry!! I don't understand you\"\n",
    "        return robo1_response\n",
    "    else:\n",
    "        robo1_response=robo1_response+sent_tokens[idx]\n",
    "        return robo1_response"
   ]
  },
  {
   "cell_type": "markdown",
   "id": "e10360d3",
   "metadata": {},
   "source": [
    "# Conversation start or end protocols"
   ]
  },
  {
   "cell_type": "code",
   "execution_count": 10,
   "id": "8a4d0463",
   "metadata": {},
   "outputs": [
    {
     "name": "stdout",
     "output_type": "stream",
     "text": [
      "BOT:My name is Ark. Let's have a converstion! Also, if you want to exist any time,just type Bye!\n",
      "hello\n",
      "BOT: hey\n",
      "how are you\n",
      "BOT: I am sorry!! I don't understand you\n",
      "welcome\n",
      "BOT: I am sorry!! I don't understand you\n",
      "hey\n",
      "BOT: hi\n",
      "thanks\n",
      "BOT: You are welcome.... \n"
     ]
    }
   ],
   "source": [
    "flag=True\n",
    "print(\"BOT:My name is Ark. Let's have a converstion! Also, if you want to exist any time,just type Bye!\")\n",
    "while(flag==True):\n",
    "    user_response=input()\n",
    "    user_response=user_response.lower()\n",
    "    if(user_response!=\"bye\"):\n",
    "        if(user_response==\"thanks\" or user_response==\"thank you\"):\n",
    "            flag=False\n",
    "            print(\"BOT: You are welcome.... \")\n",
    "        else:\n",
    "            if(greet(user_response)!=None):\n",
    "                print(\"BOT: \"+greet(user_response))\n",
    "            else:\n",
    "                sent_tokens.append(user_response)\n",
    "                word_tokens=word_tokens+nltk.word_tokenize(user_response)\n",
    "                final_words=list(set(word_tokens))\n",
    "                print(\"BOT: \",end=\"\")\n",
    "                print(response(user_response))\n",
    "                sent_tokens.remove(user_response)\n",
    "    else:\n",
    "        flag=False\n",
    "        print(\"BOT: Goodbye!! Take care\")"
   ]
  },
  {
   "cell_type": "code",
   "execution_count": null,
   "id": "8039e338",
   "metadata": {},
   "outputs": [],
   "source": []
  }
 ],
 "metadata": {
  "kernelspec": {
   "display_name": "Python 3 (ipykernel)",
   "language": "python",
   "name": "python3"
  },
  "language_info": {
   "codemirror_mode": {
    "name": "ipython",
    "version": 3
   },
   "file_extension": ".py",
   "mimetype": "text/x-python",
   "name": "python",
   "nbconvert_exporter": "python",
   "pygments_lexer": "ipython3",
   "version": "3.11.4"
  }
 },
 "nbformat": 4,
 "nbformat_minor": 5
}
